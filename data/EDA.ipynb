{
 "cells": [
  {
   "cell_type": "markdown",
   "id": "c188bce9",
   "metadata": {},
   "source": [
    "# MMLU and MMMLU EDA\n",
    "\n",
    "- Author: Jay Chiehen Liao\n",
    "- This notebook did these things:\n",
    "    1. It downloads MMLU (English) and MMMLU - French version.\n",
    "    2. It checks if datasets are normal.\n",
    "    3. It selects one subcategory for each category (there are 17 categories in total and thus we eventually selects 17 subcategories,)\n",
    "    4. It filters the first 100 samples for 17 subcategories and 2 languages, and collects 17 * 2 = 34 datasets into a dict.\n",
    "    5. It saves the final dict into a pickle file.\n",
    "- To skip steps of checking and re-collect the datasets, please run `save_datasets.py`"
   ]
  },
  {
   "cell_type": "code",
   "execution_count": 9,
   "id": "c88fab2e",
   "metadata": {},
   "outputs": [],
   "source": [
    "from datasets import load_dataset\n",
    "import pandas as pd\n",
    "import numpy as np\n",
    "from categories import categories, subcategories"
   ]
  },
  {
   "cell_type": "markdown",
   "id": "d29be69a",
   "metadata": {},
   "source": [
    "## Download English and French datasets"
   ]
  },
  {
   "cell_type": "code",
   "execution_count": 61,
   "id": "c109dece",
   "metadata": {},
   "outputs": [
    {
     "data": {
      "text/plain": [
       "Dataset({\n",
       "    features: ['question', 'subject', 'choices', 'answer'],\n",
       "    num_rows: 14042\n",
       "})"
      ]
     },
     "execution_count": 61,
     "metadata": {},
     "output_type": "execute_result"
    }
   ],
   "source": [
    "ds_en = load_dataset(\"cais/mmlu\", \"all\", split=\"test\")\n",
    "ds_en"
   ]
  },
  {
   "cell_type": "code",
   "execution_count": 62,
   "id": "15a3a755",
   "metadata": {},
   "outputs": [
    {
     "data": {
      "text/plain": [
       "Dataset({\n",
       "    features: ['Unnamed: 0', 'Question', 'A', 'B', 'C', 'D', 'Answer', 'Subject'],\n",
       "    num_rows: 14042\n",
       "})"
      ]
     },
     "execution_count": 62,
     "metadata": {},
     "output_type": "execute_result"
    }
   ],
   "source": [
    "ds_fr = load_dataset(\"openai/MMMLU\", \"FR_FR\", split=\"test\")\n",
    "ds_fr"
   ]
  },
  {
   "cell_type": "markdown",
   "id": "2f745eda",
   "metadata": {},
   "source": [
    "## Confirm if all data match in two languages\n",
    "### Check the first 5 questions"
   ]
  },
  {
   "cell_type": "code",
   "execution_count": 70,
   "id": "fae3d15c",
   "metadata": {},
   "outputs": [
    {
     "name": "stdout",
     "output_type": "stream",
     "text": [
      "0\n",
      "[EN] Find the degree for the given field extension Q(sqrt(2), sqrt(3), sqrt(18)) over Q.\n",
      "[FR] Déterminez le degré d'extension de champ donnée Q(sqrt(2), sqrt(3), sqrt(18)) sur Q.\n",
      "1\n",
      "[EN] Let p = (1, 2, 5, 4)(2, 3) in S_5 . Find the index of <p> in S_5.\n",
      "[FR] Étant donné p = (1, 2, 5, 4)(2, 3) dans S_5. Déterminez l’indice de <p> dans S_5.\n",
      "2\n",
      "[EN] Find all zeros in the indicated finite field of the given polynomial with coefficients in that field. x^5 + 3x^3 + x^2 + 2x in Z_5\n",
      "[FR] Déterminez tous les zéros dans le champ fini indiqué du polynôme donné ayant des coefficients dans ce champ. x^5 + 3x^3 + x^2 + 2x dans Z_5\n",
      "3\n",
      "[EN] Statement 1 | A factor group of a non-Abelian group is non-Abelian. Statement 2 | If K is a normal subgroup of H and H is a normal subgroup of G, then K is a normal subgroup of G.\n",
      "[FR] Énoncé 1 | Un groupe de facteurs d’un groupe non-abélien est non-abélien. Énoncé 2 | Si K est un sous-groupe normal de H et H est un sous-groupe normal de G, alors K est un sous-groupe normal de G.\n",
      "4\n",
      "[EN] Find the product of the given polynomials in the given polynomial ring. f(x) = 4x - 5, g(x) = 2x^2 - 4x + 2 in Z_8[x].\n",
      "[FR] Déterminez le produit des polynômes donnés dans l'anneau polynomial donné. f(x) = 4x - 5, g(x) = 2x^2 - 4x + 2 dans Z_8[x].\n"
     ]
    }
   ],
   "source": [
    "for i, x in enumerate(zip(ds_en, ds_fr)):\n",
    "    en, fr = x\n",
    "    print(i)\n",
    "    print(\"[EN]\", en[\"question\"])\n",
    "    print(\"[FR]\", fr[\"Question\"])\n",
    "    if i == 4:\n",
    "        break"
   ]
  },
  {
   "cell_type": "markdown",
   "id": "97b6054a",
   "metadata": {},
   "source": [
    "Looks good."
   ]
  },
  {
   "cell_type": "markdown",
   "id": "0cd19769",
   "metadata": {},
   "source": [
    "### Check the subject counts"
   ]
  },
  {
   "cell_type": "code",
   "execution_count": 75,
   "id": "f62364d5",
   "metadata": {},
   "outputs": [],
   "source": [
    "subcategory_counts_en = pd.Series(ds_en[\"subject\"]).value_counts()\n",
    "subcategory_counts_fr = pd.Series(ds_fr[\"Subject\"]).value_counts()"
   ]
  },
  {
   "cell_type": "code",
   "execution_count": 77,
   "id": "5be96cd2",
   "metadata": {},
   "outputs": [
    {
     "data": {
      "text/plain": [
       "57"
      ]
     },
     "execution_count": 77,
     "metadata": {},
     "output_type": "execute_result"
    }
   ],
   "source": [
    "sum(subcategory_counts_en == subcategory_counts_fr)"
   ]
  },
  {
   "cell_type": "code",
   "execution_count": 79,
   "id": "14c77286",
   "metadata": {},
   "outputs": [
    {
     "data": {
      "text/plain": [
       "57"
      ]
     },
     "execution_count": 79,
     "metadata": {},
     "output_type": "execute_result"
    }
   ],
   "source": [
    "len(subcategories)"
   ]
  },
  {
   "cell_type": "markdown",
   "id": "d04fd74f",
   "metadata": {},
   "source": [
    "#### Check if any subcategory contains quesions less than 100"
   ]
  },
  {
   "cell_type": "code",
   "execution_count": 89,
   "id": "632bdb9a",
   "metadata": {},
   "outputs": [
    {
     "data": {
      "text/plain": [
       "np.False_"
      ]
     },
     "execution_count": 89,
     "metadata": {},
     "output_type": "execute_result"
    }
   ],
   "source": [
    "(subcategory_counts_en < 100).any()"
   ]
  },
  {
   "cell_type": "markdown",
   "id": "0fff7408",
   "metadata": {},
   "source": [
    "Looks good."
   ]
  },
  {
   "cell_type": "markdown",
   "id": "0f3cee6a",
   "metadata": {},
   "source": [
    "## Handle different data formats of two languages"
   ]
  },
  {
   "cell_type": "markdown",
   "id": "331b8bd6",
   "metadata": {},
   "source": [
    "### Check if any sample with less than or more than 4 choices"
   ]
  },
  {
   "cell_type": "markdown",
   "id": "b63b5da9",
   "metadata": {},
   "source": [
    "#### English\n"
   ]
  },
  {
   "cell_type": "code",
   "execution_count": 98,
   "id": "c6024dfd",
   "metadata": {},
   "outputs": [
    {
     "name": "stdout",
     "output_type": "stream",
     "text": [
      "All questions have 4 choices.\n"
     ]
    }
   ],
   "source": [
    "Pass = True\n",
    "for x in ds_en[\"choices\"]:\n",
    "    if len(x) != 4:\n",
    "        print(f\"Question {ds_en['question'][i]} has {len(x)} choices.\")\n",
    "        Pass = False\n",
    "        break\n",
    "if Pass:\n",
    "    print(\"All questions have 4 choices.\")"
   ]
  },
  {
   "cell_type": "markdown",
   "id": "9cdc56da",
   "metadata": {},
   "source": [
    "#### French"
   ]
  },
  {
   "cell_type": "code",
   "execution_count": 87,
   "id": "fdbb19bc",
   "metadata": {},
   "outputs": [
    {
     "data": {
      "text/plain": [
       "A    True\n",
       "B    True\n",
       "C    True\n",
       "D    True\n",
       "dtype: bool"
      ]
     },
     "execution_count": 87,
     "metadata": {},
     "output_type": "execute_result"
    }
   ],
   "source": [
    "pd.isnull(ds_fr.to_pandas()[[\"A\", \"B\", \"C\", \"D\"]]).apply(lambda x: x.sum() == 0)"
   ]
  },
  {
   "cell_type": "markdown",
   "id": "234655a6",
   "metadata": {},
   "source": [
    "# Select the first 100 questions for 17 subcategories"
   ]
  },
  {
   "cell_type": "code",
   "execution_count": 102,
   "id": "65f680d9",
   "metadata": {},
   "outputs": [
    {
     "data": {
      "text/plain": [
       "dict_values([['physics', 'chemistry', 'biology', 'computer science', 'math', 'engineering'], ['history', 'philosophy', 'law'], ['politics', 'culture', 'economics', 'geography', 'psychology'], ['other', 'business', 'health']])"
      ]
     },
     "execution_count": 102,
     "metadata": {},
     "output_type": "execute_result"
    }
   ],
   "source": [
    "categories.values()"
   ]
  },
  {
   "cell_type": "code",
   "execution_count": 116,
   "id": "b4d86a3f",
   "metadata": {},
   "outputs": [],
   "source": [
    "selected_categories = []\n",
    "for v in categories.values():\n",
    "    selected_categories += v\n",
    "\n",
    "selected_subcategories = {}\n",
    "for k, v in subcategories.items():\n",
    "    category = v[0]\n",
    "    if category in selected_categories:\n",
    "        selected_subcategories[category] = k\n",
    "        selected_categories.remove(category)\n",
    "    if len(selected_categories) == 0:\n",
    "        break"
   ]
  },
  {
   "cell_type": "code",
   "execution_count": 117,
   "id": "1b6a1b0a",
   "metadata": {},
   "outputs": [
    {
     "data": {
      "text/plain": [
       "{'math': 'abstract_algebra',\n",
       " 'health': 'anatomy',\n",
       " 'physics': 'astronomy',\n",
       " 'business': 'business_ethics',\n",
       " 'biology': 'college_biology',\n",
       " 'chemistry': 'college_chemistry',\n",
       " 'computer science': 'college_computer_science',\n",
       " 'economics': 'econometrics',\n",
       " 'engineering': 'electrical_engineering',\n",
       " 'philosophy': 'formal_logic',\n",
       " 'other': 'global_facts',\n",
       " 'history': 'high_school_european_history',\n",
       " 'geography': 'high_school_geography',\n",
       " 'politics': 'high_school_government_and_politics',\n",
       " 'psychology': 'high_school_psychology',\n",
       " 'culture': 'human_sexuality',\n",
       " 'law': 'international_law'}"
      ]
     },
     "execution_count": 117,
     "metadata": {},
     "output_type": "execute_result"
    }
   ],
   "source": [
    "selected_subcategories"
   ]
  },
  {
   "cell_type": "code",
   "execution_count": 122,
   "id": "3666449e",
   "metadata": {},
   "outputs": [
    {
     "name": "stdout",
     "output_type": "stream",
     "text": [
      "\n",
      "Subcategory  0 abstract_algebra                    (100, 4) (100, 8)\n",
      "Subcategory  1 anatomy                             (100, 4) (100, 8)\n",
      "Subcategory  2 astronomy                           (100, 4) (100, 8)\n",
      "Subcategory  3 business_ethics                     (100, 4) (100, 8)\n",
      "Subcategory  4 college_biology                     (100, 4) (100, 8)\n",
      "Subcategory  5 college_chemistry                   (100, 4) (100, 8)\n",
      "Subcategory  6 college_computer_science            (100, 4) (100, 8)\n",
      "Subcategory  7 econometrics                        (100, 4) (100, 8)\n",
      "Subcategory  8 electrical_engineering              (100, 4) (100, 8)\n",
      "Subcategory  9 formal_logic                        (100, 4) (100, 8)\n",
      "Subcategory 10 global_facts                        (100, 4) (100, 8)\n",
      "Subcategory 11 high_school_european_history        (100, 4) (100, 8)\n",
      "Subcategory 12 high_school_geography               (100, 4) (100, 8)\n",
      "Subcategory 13 high_school_government_and_politics (100, 4) (100, 8)\n",
      "Subcategory 14 high_school_psychology              (100, 4) (100, 8)\n",
      "Subcategory 15 human_sexuality                     (100, 4) (100, 8)\n",
      "Subcategory 16 international_law                   (100, 4) (100, 8)\n"
     ]
    }
   ],
   "source": [
    "ds_selected = {}\n",
    "print()\n",
    "for i, subcategory in enumerate(selected_subcategories.values()):\n",
    "    ds_selected[subcategory] ={}\n",
    "    ds_selected[subcategory][\"en\"] = ds_en.filter(lambda x: x[\"subject\"] == subcategory).select(range(100))\n",
    "    ds_selected[subcategory][\"fr\"] = ds_fr.filter(lambda x: x[\"Subject\"] == subcategory).select(range(100))\n",
    "    print(f\"Subcategory {i:2d} {subcategory:35s}\", ds_selected[subcategory][\"en\"].shape, ds_selected[subcategory][\"fr\"].shape)\n"
   ]
  },
  {
   "cell_type": "code",
   "execution_count": 124,
   "id": "0158fe02",
   "metadata": {},
   "outputs": [],
   "source": [
    "import os, pickle\n",
    "if not os.path.exists(\"data\"):\n",
    "    os.mkdir(\"data\")\n",
    "with open(\"data/ds_selected.pkl\", \"wb\") as f:\n",
    "    pickle.dump(ds_selected, f, protocol=pickle.HIGHEST_PROTOCOL)"
   ]
  },
  {
   "cell_type": "code",
   "execution_count": null,
   "id": "a4ebda66",
   "metadata": {},
   "outputs": [],
   "source": []
  },
  {
   "cell_type": "markdown",
   "id": "1a3bc14c",
   "metadata": {},
   "source": [
    "# Check `ds_selected.pkl` after PRs #2, #3, and #4"
   ]
  },
  {
   "cell_type": "code",
   "execution_count": 1,
   "id": "ed22c516",
   "metadata": {},
   "outputs": [],
   "source": [
    "import pickle as pkl"
   ]
  },
  {
   "cell_type": "code",
   "execution_count": 3,
   "id": "5aa3226e",
   "metadata": {},
   "outputs": [],
   "source": [
    "with open(\"./ds_selected.pkl\", \"rb\") as f:\n",
    "    ds_selected = pkl.load(f)"
   ]
  },
  {
   "cell_type": "code",
   "execution_count": 4,
   "id": "501120c2",
   "metadata": {},
   "outputs": [
    {
     "data": {
      "text/plain": [
       "17"
      ]
     },
     "execution_count": 4,
     "metadata": {},
     "output_type": "execute_result"
    }
   ],
   "source": [
    "len(ds_selected)"
   ]
  },
  {
   "cell_type": "markdown",
   "id": "46f57e12",
   "metadata": {},
   "source": [
    "#### Check value type of each key (subcategory)"
   ]
  },
  {
   "cell_type": "code",
   "execution_count": 14,
   "id": "0fc8c489",
   "metadata": {},
   "outputs": [
    {
     "name": "stdout",
     "output_type": "stream",
     "text": [
      "abstract_algebra                    <class 'dict'>\n",
      "anatomy                             <class 'dict'>\n",
      "astronomy                           <class 'dict'>\n",
      "business_ethics                     <class 'dict'>\n",
      "college_biology                     <class 'dict'>\n",
      "college_chemistry                   <class 'dict'>\n",
      "college_computer_science            <class 'dict'>\n",
      "econometrics                        <class 'dict'>\n",
      "electrical_engineering              <class 'dict'>\n",
      "formal_logic                        <class 'dict'>\n",
      "global_facts                        <class 'dict'>\n",
      "high_school_european_history        <class 'dict'>\n",
      "high_school_geography               <class 'dict'>\n",
      "high_school_government_and_politics <class 'dict'>\n",
      "high_school_psychology              <class 'dict'>\n",
      "human_sexuality                     <class 'dict'>\n",
      "international_law                   <class 'dict'>\n"
     ]
    }
   ],
   "source": [
    "for subtask, v in ds_selected.items():\n",
    "    print(f\"{subtask:35s}\", type(v))"
   ]
  },
  {
   "cell_type": "markdown",
   "id": "87630d37",
   "metadata": {},
   "source": [
    "#### Check if there are 100 questions in both languages for all subtasks"
   ]
  },
  {
   "cell_type": "code",
   "execution_count": 21,
   "id": "2845168a",
   "metadata": {
    "notebookRunGroups": {
     "groupValue": "2"
    }
   },
   "outputs": [
    {
     "name": "stdout",
     "output_type": "stream",
     "text": [
      "abstract_algebra                    100 100\n",
      "anatomy                             100 100\n",
      "astronomy                           100 100\n",
      "business_ethics                     100 100\n",
      "college_biology                     100 100\n",
      "college_chemistry                   100 100\n",
      "college_computer_science            100 100\n",
      "econometrics                        100 100\n",
      "electrical_engineering              100 100\n",
      "formal_logic                        100 100\n",
      "global_facts                        100 100\n",
      "high_school_european_history        100 100\n",
      "high_school_geography               100 100\n",
      "high_school_government_and_politics 100 100\n",
      "high_school_psychology              100 100\n",
      "human_sexuality                     100 100\n",
      "international_law                   100 100\n"
     ]
    }
   ],
   "source": [
    "for subtask, v in ds_selected.items():\n",
    "    print(f\"{subtask:35s}\", len(v[\"en\"]), len(v[\"fr\"]))\n",
    "    assert len(v[\"en\"]) == len(v[\"fr\"]) == 100, f\"Different number of questions in {subtask}\""
   ]
  },
  {
   "cell_type": "markdown",
   "id": "d258f3da",
   "metadata": {},
   "source": [
    "#### Take the first k questions to check if English versions match French ones "
   ]
  },
  {
   "cell_type": "code",
   "execution_count": 23,
   "id": "42bcabc6",
   "metadata": {},
   "outputs": [
    {
     "name": "stdout",
     "output_type": "stream",
     "text": [
      "0\n",
      "[EN] The Barkhausen criterion for an oscillator\n",
      "[FR] Le critère de Barkhausen pour un oscillateur\n",
      "1\n",
      "[EN] Potentiometer method of DC voltage measurement is more accurate than direct measurement using a voltmeter because\n",
      "[FR] La méthode du potentiomètre pour mesurer la tension continue est plus précise que la mesure directe à l'aide d'un voltmètre, parce que\n",
      "2\n",
      "[EN] Which of these sets of logic gates are designated as universal gates?\n",
      "[FR] Lesquels de ces ensembles de portes logiques sont désignés comme portes universelles ?\n",
      "3\n",
      "[EN] A single phase one pulse controlled circuit has a resistance R and counter emf E load 400 sin(314 t) as the source voltage. For a load counter emf of 200 V, the range of firing angle control is\n",
      "[FR] Un circuit monophasé contrôlé par une impulsion possède une résistance R et une charge contre-emf E de 400 sin (314 t) comme tension source. Pour un compteur de charge emf de 200 V, la plage de contrôle de l'angle d'allumage est\n",
      "4\n",
      "[EN] A box which tells the effect of inputs on control sub system is known as\n",
      "[FR] Une boîte qui indique l'effet des entrées sur le sous-système de contrôle est connue sous le nom de\n"
     ]
    }
   ],
   "source": [
    "SUBTASK = \"electrical_engineering\"\n",
    "for i, x in enumerate(zip(ds_selected[SUBTASK][\"en\"], ds_selected[SUBTASK][\"fr\"])):\n",
    "    en, fr = x\n",
    "    print(i)\n",
    "    print(\"[EN]\", en[\"question\"])\n",
    "    print(\"[FR]\", fr[\"question\"])\n",
    "    if i == 4:\n",
    "        break"
   ]
  },
  {
   "cell_type": "markdown",
   "id": "493bbcb0",
   "metadata": {},
   "source": [
    "Looks fine."
   ]
  },
  {
   "cell_type": "code",
   "execution_count": null,
   "id": "95a67cd1",
   "metadata": {},
   "outputs": [],
   "source": []
  }
 ],
 "metadata": {
  "kernelspec": {
   "display_name": "nlp_team9",
   "language": "python",
   "name": "python3"
  },
  "language_info": {
   "codemirror_mode": {
    "name": "ipython",
    "version": 3
   },
   "file_extension": ".py",
   "mimetype": "text/x-python",
   "name": "python",
   "nbconvert_exporter": "python",
   "pygments_lexer": "ipython3",
   "version": "3.10.16"
  }
 },
 "nbformat": 4,
 "nbformat_minor": 5
}
